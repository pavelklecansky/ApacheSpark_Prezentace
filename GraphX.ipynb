{
 "cells": [
  {
   "cell_type": "markdown",
   "metadata": {},
   "source": [
    "<h1 align = \"center\"> GraphX </h1>"
   ]
  },
  {
   "cell_type": "markdown",
   "metadata": {},
   "source": [
    "Ověření inicializace Spark contextu."
   ]
  },
  {
   "cell_type": "code",
   "execution_count": 1,
   "metadata": {},
   "outputs": [
    {
     "data": {
      "text/plain": [
       "2.4.3"
      ]
     },
     "execution_count": 1,
     "metadata": {},
     "output_type": "execute_result"
    }
   ],
   "source": [
    "sc.version"
   ]
  },
  {
   "cell_type": "markdown",
   "metadata": {},
   "source": [
    "## Vytvoření grafu"
   ]
  },
  {
   "cell_type": "markdown",
   "metadata": {},
   "source": [
    "Nejdříve musíme importovat potřebné knihovny."
   ]
  },
  {
   "cell_type": "code",
   "execution_count": 2,
   "metadata": {},
   "outputs": [],
   "source": []
  },
  {
   "cell_type": "markdown",
   "metadata": {},
   "source": [
    "### Vytvoříme si pole vrcholů:"
   ]
  },
  {
   "cell_type": "markdown",
   "metadata": {},
   "source": [
    "3 People:\n",
    "- Billy Bill\n",
    "- Jacob Johnson\n",
    "- Andrew Smith\n",
    "\n",
    "2 Pages:\n",
    "\n",
    "- Iron Man Fan Page\n",
    "- Captain America Fan Page"
   ]
  },
  {
   "cell_type": "code",
   "execution_count": 3,
   "metadata": {},
   "outputs": [
    {
     "data": {
      "text/plain": [
       "facebook_vertices = Array((1,(Billy Bill,Person)), (2,(Jacob Johnson,Person)), (3,(Andrew Smith,Person)), (4,(Iron Man Fan Page,Page)), (5,(Captain America Fan Page,Page)))\n"
      ]
     },
     "metadata": {},
     "output_type": "display_data",
     "source": "user"
    },
    {
     "data": {
      "text/plain": [
       "Array((1,(Billy Bill,Person)), (2,(Jacob Johnson,Person)), (3,(Andrew Smith,Person)), (4,(Iron Man Fan Page,Page)), (5,(Captain America Fan Page,Page)))"
      ]
     },
     "execution_count": 3,
     "metadata": {},
     "output_type": "execute_result"
    }
   ],
   "source": []
  },
  {
   "cell_type": "markdown",
   "metadata": {},
   "source": [
    "### Vytvoříme si pole hran:"
   ]
  },
  {
   "cell_type": "markdown",
   "metadata": {},
   "source": [
    "Hrany budou mít takovéto vztahy:\n",
    "- Billy is Friends with Jacob\n",
    "- Billy is Friends with Andrew\n",
    "- Jacob is a Follower of the Iron Man Fan Page\n",
    "- Jacob is a Follower of the the Captain America Fan Page\n",
    "- Andrew is a Follower of the the Captain America Fan Page"
   ]
  },
  {
   "cell_type": "code",
   "execution_count": 4,
   "metadata": {},
   "outputs": [
    {
     "data": {
      "text/plain": [
       "relationships = Array(Edge(1,2,Friends), Edge(1,3,Friends), Edge(2,4,Follower), Edge(2,5,Follower), Edge(3,5,Follower))\n"
      ]
     },
     "metadata": {},
     "output_type": "display_data",
     "source": "user"
    },
    {
     "data": {
      "text/plain": [
       "Array(Edge(1,2,Friends), Edge(1,3,Friends), Edge(2,4,Follower), Edge(2,5,Follower), Edge(3,5,Follower))"
      ]
     },
     "execution_count": 4,
     "metadata": {},
     "output_type": "execute_result"
    }
   ],
   "source": []
  },
  {
   "cell_type": "markdown",
   "metadata": {},
   "source": [
    "### Vytvoříme si z vrcholů a hran RDD:"
   ]
  },
  {
   "cell_type": "code",
   "execution_count": 5,
   "metadata": {},
   "outputs": [
    {
     "data": {
      "text/plain": [
       "vertexRDD = ParallelCollectionRDD[0] at parallelize at <console>:38\n",
       "edgeRDD = ParallelCollectionRDD[1] at parallelize at <console>:39\n"
      ]
     },
     "metadata": {},
     "output_type": "display_data",
     "source": "user"
    },
    {
     "data": {
      "text/plain": [
       "ParallelCollectionRDD[1] at parallelize at <console>:39"
      ]
     },
     "execution_count": 5,
     "metadata": {},
     "output_type": "execute_result"
    }
   ],
   "source": []
  },
  {
   "cell_type": "markdown",
   "metadata": {},
   "source": [
    "### Vytvoříme Grafu"
   ]
  },
  {
   "cell_type": "markdown",
   "metadata": {},
   "source": [
    "Před vytvořením graphu by jsme si měli vytvořit Default vertex."
   ]
  },
  {
   "cell_type": "code",
   "execution_count": 6,
   "metadata": {},
   "outputs": [
    {
     "data": {
      "text/plain": [
       "defaultvertex = (Self,Missing)\n"
      ]
     },
     "metadata": {},
     "output_type": "display_data",
     "source": "user"
    },
    {
     "data": {
      "text/plain": [
       "(Self,Missing)"
      ]
     },
     "execution_count": 6,
     "metadata": {},
     "output_type": "execute_result"
    }
   ],
   "source": []
  },
  {
   "cell_type": "markdown",
   "metadata": {},
   "source": [
    "Nyní můžeme vytvořit Graf."
   ]
  },
  {
   "cell_type": "code",
   "execution_count": 8,
   "metadata": {},
   "outputs": [
    {
     "data": {
      "text/plain": [
       "facebook = org.apache.spark.graphx.impl.GraphImpl@44ee97eb\n"
      ]
     },
     "metadata": {},
     "output_type": "display_data",
     "source": "user"
    },
    {
     "data": {
      "text/plain": [
       "org.apache.spark.graphx.impl.GraphImpl@44ee97eb"
      ]
     },
     "execution_count": 8,
     "metadata": {},
     "output_type": "execute_result"
    }
   ],
   "source": []
  },
  {
   "cell_type": "markdown",
   "metadata": {},
   "source": [
    "## Zobrazení grafu"
   ]
  },
  {
   "cell_type": "markdown",
   "metadata": {},
   "source": [
    "<img src = \"http://i.imgur.com/rhkiopM.png\">"
   ]
  },
  {
   "cell_type": "markdown",
   "metadata": {},
   "source": [
    "Počet vrcholů."
   ]
  },
  {
   "cell_type": "code",
   "execution_count": 9,
   "metadata": {},
   "outputs": [
    {
     "name": "stdout",
     "output_type": "stream",
     "text": [
      "5"
     ]
    }
   ],
   "source": []
  },
  {
   "cell_type": "markdown",
   "metadata": {},
   "source": [
    "Počet hran."
   ]
  },
  {
   "cell_type": "code",
   "execution_count": 12,
   "metadata": {},
   "outputs": [
    {
     "name": "stdout",
     "output_type": "stream",
     "text": [
      "5"
     ]
    }
   ],
   "source": []
  },
  {
   "cell_type": "markdown",
   "metadata": {},
   "source": [
    "Počet hran vstupujících do vrcholu."
   ]
  },
  {
   "cell_type": "code",
   "execution_count": 3,
   "metadata": {},
   "outputs": [
    {
     "name": "stdout",
     "output_type": "stream",
     "text": [
      "(4,1)\n",
      "(3,1)\n",
      "(5,2)\n",
      "(2,1)\n"
     ]
    }
   ],
   "source": []
  },
  {
   "cell_type": "markdown",
   "metadata": {},
   "source": [
    "Počet hran vystupujících z vrcholu."
   ]
  },
  {
   "cell_type": "code",
   "execution_count": 4,
   "metadata": {},
   "outputs": [
    {
     "name": "stdout",
     "output_type": "stream",
     "text": [
      "(1,2)\n",
      "(3,1)\n",
      "(2,2)\n"
     ]
    }
   ],
   "source": []
  },
  {
   "cell_type": "markdown",
   "metadata": {},
   "source": [
    "Počet hran vystupujících a vstupujích z vrcholu."
   ]
  },
  {
   "cell_type": "code",
   "execution_count": 8,
   "metadata": {},
   "outputs": [
    {
     "name": "stdout",
     "output_type": "stream",
     "text": [
      "(4,1)\n",
      "(1,2)\n",
      "(3,2)\n",
      "(5,2)\n",
      "(2,3)\n"
     ]
    }
   ],
   "source": []
  },
  {
   "cell_type": "markdown",
   "metadata": {},
   "source": [
    "Zobrazení grafu."
   ]
  },
  {
   "cell_type": "code",
   "execution_count": 9,
   "metadata": {},
   "outputs": [
    {
     "name": "stdout",
     "output_type": "stream",
     "text": [
      "((1,(Billy Bill,Person)),(2,(Jacob Johnson,Person)),Friends)\n",
      "((1,(Billy Bill,Person)),(3,(Andrew Smith,Person)),Friends)\n",
      "((2,(Jacob Johnson,Person)),(4,(Iron Man Fan Page,Page)),Follower)\n",
      "((2,(Jacob Johnson,Person)),(5,(Captain America Fan Page,Page)),Follower)\n",
      "((3,(Andrew Smith,Person)),(5,(Captain America Fan Page,Page)),Follower)\n"
     ]
    }
   ],
   "source": []
  },
  {
   "cell_type": "code",
   "execution_count": 10,
   "metadata": {},
   "outputs": [
    {
     "name": "stdout",
     "output_type": "stream",
     "text": [
      "Edge(1,2,Friends)\n",
      "Edge(1,3,Friends)\n",
      "Edge(2,4,Follower)\n",
      "Edge(2,5,Follower)\n",
      "Edge(3,5,Follower)\n"
     ]
    }
   ],
   "source": []
  },
  {
   "cell_type": "code",
   "execution_count": 11,
   "metadata": {},
   "outputs": [
    {
     "name": "stdout",
     "output_type": "stream",
     "text": [
      "(4,(Iron Man Fan Page,Page))\n",
      "(1,(Billy Bill,Person))\n",
      "(3,(Andrew Smith,Person))\n",
      "(5,(Captain America Fan Page,Page))\n",
      "(2,(Jacob Johnson,Person))\n"
     ]
    }
   ],
   "source": []
  },
  {
   "cell_type": "code",
   "execution_count": 9,
   "metadata": {},
   "outputs": [
    {
     "name": "stdout",
     "output_type": "stream",
     "text": [
      "Billy Bill is Friends with Jacob Johnson\n",
      "Billy Bill is Friends with Andrew Smith\n",
      "Jacob Johnson is Follower with Iron Man Fan Page\n",
      "Jacob Johnson is Follower with Captain America Fan Page\n",
      "Andrew Smith is Follower with Captain America Fan Page\n"
     ]
    }
   ],
   "source": []
  },
  {
   "cell_type": "markdown",
   "metadata": {},
   "source": [
    "## Modifikace Grafu"
   ]
  },
  {
   "cell_type": "markdown",
   "metadata": {},
   "source": [
    "Modifikace vrcholů."
   ]
  },
  {
   "cell_type": "code",
   "execution_count": 20,
   "metadata": {},
   "outputs": [
    {
     "name": "stdout",
     "output_type": "stream",
     "text": [
      "(4,(Iron Man Fan Page,Page))\n",
      "(1,Billy D. Bill)\n",
      "(3,(Andrew Smith,Person))\n",
      "(5,(Captain America Fan Page,Page))\n",
      "(2,(Jacob Johnson,Person))\n",
      "Tuple2\n"
     ]
    },
    {
     "data": {
      "text/plain": [
       "facebook_temp = org.apache.spark.graphx.impl.GraphImpl@1ae79d53\n"
      ]
     },
     "metadata": {},
     "output_type": "display_data",
     "source": "user"
    },
    {
     "data": {
      "text/plain": [
       "org.apache.spark.graphx.impl.GraphImpl@1ae79d53"
      ]
     },
     "execution_count": 20,
     "metadata": {},
     "output_type": "execute_result"
    }
   ],
   "source": []
  },
  {
   "cell_type": "markdown",
   "metadata": {},
   "source": [
    "Modifikace hran."
   ]
  },
  {
   "cell_type": "code",
   "execution_count": 21,
   "metadata": {},
   "outputs": [
    {
     "name": "stdout",
     "output_type": "stream",
     "text": [
      "Edge(1,2,Friends)\n",
      "Edge(1,3,Friends)\n",
      "Edge(2,4,Follower)\n",
      "Edge(2,5,Follower)\n",
      "Edge(3,5,Supreme Follower)\n",
      "Edge\n"
     ]
    },
    {
     "data": {
      "text/plain": [
       "facebook_temp = org.apache.spark.graphx.impl.GraphImpl@3d5a1d24\n"
      ]
     },
     "metadata": {},
     "output_type": "display_data",
     "source": "user"
    },
    {
     "data": {
      "text/plain": [
       "org.apache.spark.graphx.impl.GraphImpl@3d5a1d24"
      ]
     },
     "execution_count": 21,
     "metadata": {},
     "output_type": "execute_result"
    }
   ],
   "source": []
  },
  {
   "cell_type": "markdown",
   "metadata": {},
   "source": [
    "Modifikace tripletů."
   ]
  },
  {
   "cell_type": "code",
   "execution_count": 22,
   "metadata": {},
   "outputs": [
    {
     "name": "stdout",
     "output_type": "stream",
     "text": [
      "Billy Bill is a Best-Friend of Jacob Johnson\n",
      "Billy Bill is a Friends of Andrew Smith\n",
      "Jacob Johnson is a Follower of Iron Man Fan Page\n",
      "Jacob Johnson is a Follower of Captain America Fan Page\n",
      "Andrew Smith is a Follower of Captain America Fan Page\n"
     ]
    },
    {
     "data": {
      "text/plain": [
       "facebook_temp = org.apache.spark.graphx.impl.GraphImpl@36c8f49c\n"
      ]
     },
     "metadata": {},
     "output_type": "display_data",
     "source": "user"
    },
    {
     "data": {
      "text/plain": [
       "org.apache.spark.graphx.impl.GraphImpl@36c8f49c"
      ]
     },
     "execution_count": 22,
     "metadata": {},
     "output_type": "execute_result"
    }
   ],
   "source": []
  },
  {
   "cell_type": "markdown",
   "metadata": {},
   "source": [
    "Otočení směru všech stran."
   ]
  },
  {
   "cell_type": "code",
   "execution_count": 23,
   "metadata": {},
   "outputs": [
    {
     "name": "stdout",
     "output_type": "stream",
     "text": [
      "Jacob Johnson is a Friends of Billy Bill\n",
      "Andrew Smith is a Friends of Billy Bill\n",
      "Iron Man Fan Page is a Follower of Jacob Johnson\n",
      "Captain America Fan Page is a Follower of Jacob Johnson\n",
      "Captain America Fan Page is a Follower of Andrew Smith\n"
     ]
    },
    {
     "data": {
      "text/plain": [
       "facebook_temp = org.apache.spark.graphx.impl.GraphImpl@2650f0c2\n"
      ]
     },
     "metadata": {},
     "output_type": "display_data",
     "source": "user"
    },
    {
     "data": {
      "text/plain": [
       "org.apache.spark.graphx.impl.GraphImpl@2650f0c2"
      ]
     },
     "execution_count": 23,
     "metadata": {},
     "output_type": "execute_result"
    }
   ],
   "source": []
  },
  {
   "cell_type": "markdown",
   "metadata": {},
   "source": [
    "Vytvoření podgrafu."
   ]
  },
  {
   "cell_type": "code",
   "execution_count": 12,
   "metadata": {},
   "outputs": [
    {
     "name": "stdout",
     "output_type": "stream",
     "text": [
      "(4,(Iron Man Fan Page,Page))\n",
      "(1,(Billy Bill,Person))\n",
      "(3,(Andrew Smith,Person))\n",
      "(5,(Captain America Fan Page,Page))\n",
      "(2,(Jacob Johnson,Person))\n",
      "\n",
      "(1,(Billy Bill,Person))\n",
      "(3,(Andrew Smith,Person))\n",
      "(2,(Jacob Johnson,Person))\n"
     ]
    },
    {
     "data": {
      "text/plain": [
       "facebook_subgraph = org.apache.spark.graphx.impl.GraphImpl@77990a3d\n"
      ]
     },
     "metadata": {},
     "output_type": "display_data",
     "source": "user"
    },
    {
     "data": {
      "text/plain": [
       "org.apache.spark.graphx.impl.GraphImpl@77990a3d"
      ]
     },
     "execution_count": 12,
     "metadata": {},
     "output_type": "execute_result"
    }
   ],
   "source": []
  },
  {
   "cell_type": "markdown",
   "metadata": {},
   "source": [
    "# Samostatná práce"
   ]
  },
  {
   "cell_type": "markdown",
   "metadata": {},
   "source": [
    "Importování knihoven."
   ]
  },
  {
   "cell_type": "code",
   "execution_count": null,
   "metadata": {},
   "outputs": [],
   "source": [
    "import org.apache.spark._\n",
    "import org.apache.spark.graphx._\n",
    "import org.apache.spark.rdd.RDD"
   ]
  },
  {
   "cell_type": "markdown",
   "metadata": {},
   "source": [
    "### Vytvořte si pole vrcholů podle šablony:"
   ]
  },
  {
   "cell_type": "markdown",
   "metadata": {},
   "source": [
    "- Homer Simpson -> VertexId = 1\n",
    "- Bart Simpson -> VertexId = 2\n",
    "- Marge Simpson -> VertexId = 3\n",
    "- Milhouse Houten -> VertexId = 4"
   ]
  },
  {
   "cell_type": "code",
   "execution_count": 25,
   "metadata": {},
   "outputs": [
    {
     "data": {
      "text/plain": [
       "simpsons = Array((1,(Homer Simpson,Person)), (2,(Bart Simpson,Person)), (3,(Marge Simpson,Person)), (4,(Milhouse Houten,Person)))\n"
      ]
     },
     "metadata": {},
     "output_type": "display_data",
     "source": "user"
    },
    {
     "data": {
      "text/plain": [
       "Array((1,(Homer Simpson,Person)), (2,(Bart Simpson,Person)), (3,(Marge Simpson,Person)), (4,(Milhouse Houten,Person)))"
      ]
     },
     "execution_count": 25,
     "metadata": {},
     "output_type": "execute_result"
    }
   ],
   "source": []
  },
  {
   "cell_type": "markdown",
   "metadata": {},
   "source": [
    "### Vytvořte si pole hran podle šablony:"
   ]
  },
  {
   "cell_type": "markdown",
   "metadata": {},
   "source": [
    "- Homer Simpson is the Father of Bart Simpson\n",
    "- Marge Simpson is the Wife of Homer Simpson\n",
    "- Bart Simpson is the Friend of Milhouse Houten"
   ]
  },
  {
   "cell_type": "code",
   "execution_count": 24,
   "metadata": {},
   "outputs": [
    {
     "data": {
      "text/plain": [
       "relationships = Array(Edge(1,2,Father), Edge(3,1,Wife), Edge(2,4,Friend))\n"
      ]
     },
     "metadata": {},
     "output_type": "display_data",
     "source": "user"
    },
    {
     "data": {
      "text/plain": [
       "Array(Edge(1,2,Father), Edge(3,1,Wife), Edge(2,4,Friend))"
      ]
     },
     "execution_count": 24,
     "metadata": {},
     "output_type": "execute_result"
    }
   ],
   "source": []
  },
  {
   "cell_type": "markdown",
   "metadata": {},
   "source": [
    "### Vytvořte si z vrcholů a hran RDD:"
   ]
  },
  {
   "cell_type": "code",
   "execution_count": 26,
   "metadata": {},
   "outputs": [
    {
     "data": {
      "text/plain": [
       "characters = ParallelCollectionRDD[52] at parallelize at <console>:38\n",
       "simpson_relationships = ParallelCollectionRDD[53] at parallelize at <console>:39\n"
      ]
     },
     "metadata": {},
     "output_type": "display_data",
     "source": "user"
    },
    {
     "data": {
      "text/plain": [
       "ParallelCollectionRDD[53] at parallelize at <console>:39"
      ]
     },
     "execution_count": 26,
     "metadata": {},
     "output_type": "execute_result"
    }
   ],
   "source": []
  },
  {
   "cell_type": "markdown",
   "metadata": {},
   "source": [
    "### Vytvořte si Default vertex"
   ]
  },
  {
   "cell_type": "code",
   "execution_count": 18,
   "metadata": {},
   "outputs": [
    {
     "data": {
      "text/plain": [
       "defaultvertex = (Self,Missing)\n"
      ]
     },
     "metadata": {},
     "output_type": "display_data",
     "source": "user"
    },
    {
     "data": {
      "text/plain": [
       "(Self,Missing)"
      ]
     },
     "execution_count": 18,
     "metadata": {},
     "output_type": "execute_result"
    }
   ],
   "source": []
  },
  {
   "cell_type": "markdown",
   "metadata": {},
   "source": [
    "### Vytvořte graf"
   ]
  },
  {
   "cell_type": "code",
   "execution_count": 28,
   "metadata": {},
   "outputs": [
    {
     "data": {
      "text/plain": [
       "the_simpsons = org.apache.spark.graphx.impl.GraphImpl@28a87162\n"
      ]
     },
     "metadata": {},
     "output_type": "display_data",
     "source": "user"
    },
    {
     "data": {
      "text/plain": [
       "org.apache.spark.graphx.impl.GraphImpl@28a87162"
      ]
     },
     "execution_count": 28,
     "metadata": {},
     "output_type": "execute_result"
    }
   ],
   "source": []
  },
  {
   "cell_type": "markdown",
   "metadata": {},
   "source": [
    "### Vypište graf"
   ]
  },
  {
   "cell_type": "code",
   "execution_count": 27,
   "metadata": {},
   "outputs": [
    {
     "name": "stdout",
     "output_type": "stream",
     "text": [
      "Homer Simpson is Father with Bart Simpson\n",
      "Bart Simpson is Friend with Milhouse Houten\n",
      "Marge Simpson is Wife with Homer Simpson\n"
     ]
    }
   ],
   "source": []
  },
  {
   "cell_type": "markdown",
   "metadata": {},
   "source": [
    "### Změňtě jméno Homera Simpsona na Guy Incognito"
   ]
  },
  {
   "cell_type": "code",
   "execution_count": 33,
   "metadata": {},
   "outputs": [
    {
     "data": {
      "text/plain": [
       "the_simpsons_temp = org.apache.spark.graphx.impl.GraphImpl@4c17f9c0\n"
      ]
     },
     "metadata": {},
     "output_type": "display_data",
     "source": "user"
    },
    {
     "data": {
      "text/plain": [
       "org.apache.spark.graphx.impl.GraphImpl@4c17f9c0"
      ]
     },
     "execution_count": 33,
     "metadata": {},
     "output_type": "execute_result"
    }
   ],
   "source": []
  },
  {
   "cell_type": "code",
   "execution_count": 34,
   "metadata": {},
   "outputs": [
    {
     "name": "stdout",
     "output_type": "stream",
     "text": [
      "(4,(Milhouse Houten,Person))\n",
      "(1,(Guy Incognito,Person))\n",
      "(3,(Marge Simpson,Person))\n",
      "(2,(Bart Simpson,Person))\n"
     ]
    }
   ],
   "source": []
  },
  {
   "cell_type": "markdown",
   "metadata": {},
   "source": [
    "### Změňtě vztah mezi Bartem Simpsonem a Milhousem Houten na Enemies"
   ]
  },
  {
   "cell_type": "code",
   "execution_count": 36,
   "metadata": {},
   "outputs": [
    {
     "name": "stdout",
     "output_type": "stream",
     "text": [
      "Edge(1,2,Father)\n",
      "Edge(2,4,Enemies)\n",
      "Edge(3,1,Wife)\n"
     ]
    },
    {
     "data": {
      "text/plain": [
       "the_simpsons_temp = org.apache.spark.graphx.impl.GraphImpl@49d81949\n"
      ]
     },
     "metadata": {},
     "output_type": "display_data",
     "source": "user"
    },
    {
     "data": {
      "text/plain": [
       "org.apache.spark.graphx.impl.GraphImpl@49d81949"
      ]
     },
     "execution_count": 36,
     "metadata": {},
     "output_type": "execute_result"
    }
   ],
   "source": []
  }
 ],
 "metadata": {
  "kernelspec": {
   "display_name": "Apache Toree - Scala",
   "language": "scala",
   "name": "apache_toree_scala"
  },
  "language_info": {
   "codemirror_mode": "text/x-scala",
   "file_extension": ".scala",
   "mimetype": "text/x-scala",
   "name": "scala",
   "pygments_lexer": "scala",
   "version": "2.11.12"
  }
 },
 "nbformat": 4,
 "nbformat_minor": 4
}
