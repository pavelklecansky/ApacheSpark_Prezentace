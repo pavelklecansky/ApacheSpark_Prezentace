{
 "cells": [
  {
   "cell_type": "markdown",
   "metadata": {},
   "source": [
    "<h1 align = \"center\"> Spark DataFrames </h1>"
   ]
  },
  {
   "cell_type": "markdown",
   "metadata": {},
   "source": [
    "Ověření inicializace Spark contextu."
   ]
  },
  {
   "cell_type": "code",
   "execution_count": 1,
   "metadata": {},
   "outputs": [
    {
     "data": {
      "text/plain": [
       "2.4.3"
      ]
     },
     "execution_count": 1,
     "metadata": {},
     "output_type": "execute_result"
    }
   ],
   "source": [
    "sc.version"
   ]
  },
  {
   "cell_type": "markdown",
   "metadata": {},
   "source": [
    "Vytvoření SparkSession."
   ]
  },
  {
   "cell_type": "code",
   "execution_count": 4,
   "metadata": {},
   "outputs": [
    {
     "data": {
      "text/plain": [
       "spark = org.apache.spark.sql.SparkSession@3bf57885\n"
      ]
     },
     "metadata": {},
     "output_type": "display_data",
     "source": "user"
    },
    {
     "data": {
      "text/plain": [
       "org.apache.spark.sql.SparkSession@3bf57885"
      ]
     },
     "execution_count": 4,
     "metadata": {},
     "output_type": "execute_result"
    }
   ],
   "source": [
    " val spark = SparkSession\n",
    "      .builder\n",
    "      .appName(\"SparkSQL\")\n",
    "      .master(\"local[*]\")\n",
    "      .getOrCreate()"
   ]
  },
  {
   "cell_type": "markdown",
   "metadata": {},
   "source": [
    "# Vytvoření DataFramu"
   ]
  },
  {
   "cell_type": "markdown",
   "metadata": {},
   "source": [
    "Základní nastavení"
   ]
  },
  {
   "cell_type": "code",
   "execution_count": 5,
   "metadata": {},
   "outputs": [],
   "source": [
    " import spark.implicits._"
   ]
  },
  {
   "cell_type": "code",
   "execution_count": 6,
   "metadata": {},
   "outputs": [
    {
     "data": {
      "text/plain": [
       "defined class Weather\n"
      ]
     },
     "metadata": {},
     "output_type": "display_data",
     "source": "user"
    }
   ],
   "source": [
    "case class Weather(date: String, temp: Int, precipitation: Double)"
   ]
  },
  {
   "cell_type": "markdown",
   "metadata": {},
   "source": [
    "Vytvoření dataframu z RDD"
   ]
  },
  {
   "cell_type": "code",
   "execution_count": 7,
   "metadata": {},
   "outputs": [
    {
     "data": {
      "text/plain": [
       "data = LabData/nycweather.csv MapPartitionsRDD[1] at textFile at <console>:34\n",
       "header = date,temp,precipitation\n",
       "weatherFromRdd = [date: string, temp: int ... 1 more field]\n"
      ]
     },
     "metadata": {},
     "output_type": "display_data",
     "source": "user"
    },
    {
     "data": {
      "text/plain": [
       "[date: string, temp: int ... 1 more field]"
      ]
     },
     "execution_count": 7,
     "metadata": {},
     "output_type": "execute_result"
    }
   ],
   "source": [
    "val data = sc.textFile(\"LabData/nycweather.csv\")\n",
    "val header = data.first()\n",
    "val weatherFromRdd = data.filter(row => row != header).map(_.split(\",\")).map(w => Weather(w(0), w(1).trim.toInt, w(2).trim.toDouble)).toDF()"
   ]
  },
  {
   "cell_type": "markdown",
   "metadata": {},
   "source": [
    "Vytvoření DataFramu."
   ]
  },
  {
   "cell_type": "code",
   "execution_count": 8,
   "metadata": {},
   "outputs": [
    {
     "data": {
      "text/plain": [
       "weatherDataFrame = [date: timestamp, temp: int ... 1 more field]\n"
      ]
     },
     "metadata": {},
     "output_type": "display_data",
     "source": "user"
    },
    {
     "data": {
      "text/plain": [
       "[date: timestamp, temp: int ... 1 more field]"
      ]
     },
     "execution_count": 8,
     "metadata": {},
     "output_type": "execute_result"
    }
   ],
   "source": [
    "val weatherDataFrame = spark.read.option(\"header\", true).option(\"inferSchema\", true).csv(\"LabData/nycweather.csv\")"
   ]
  },
  {
   "cell_type": "markdown",
   "metadata": {},
   "source": [
    "Vytvoření Datasetu."
   ]
  },
  {
   "cell_type": "code",
   "execution_count": 9,
   "metadata": {},
   "outputs": [
    {
     "data": {
      "text/plain": [
       "weather = [date: timestamp, temp: int ... 1 more field]\n"
      ]
     },
     "metadata": {},
     "output_type": "display_data",
     "source": "user"
    },
    {
     "data": {
      "text/plain": [
       "[date: timestamp, temp: int ... 1 more field]"
      ]
     },
     "execution_count": 9,
     "metadata": {},
     "output_type": "execute_result"
    }
   ],
   "source": [
    "val weather = spark.read.option(\"header\", true).option(\"inferSchema\", true)\n",
    "      .csv(\"LabData/nycweather.csv\")\n",
    "      .as[Weather]"
   ]
  },
  {
   "cell_type": "markdown",
   "metadata": {},
   "source": [
    "Porovnání rozdílu DataFramu a Datasetu"
   ]
  },
  {
   "cell_type": "code",
   "execution_count": 10,
   "metadata": {},
   "outputs": [
    {
     "name": "stdout",
     "output_type": "stream",
     "text": [
      "root\n",
      " |-- date: timestamp (nullable = true)\n",
      " |-- temp: integer (nullable = true)\n",
      " |-- precipitation: double (nullable = true)\n",
      "\n"
     ]
    }
   ],
   "source": [
    " weather.printSchema()"
   ]
  },
  {
   "cell_type": "code",
   "execution_count": 11,
   "metadata": {},
   "outputs": [
    {
     "name": "stdout",
     "output_type": "stream",
     "text": [
      "root\n",
      " |-- date: timestamp (nullable = true)\n",
      " |-- temp: integer (nullable = true)\n",
      " |-- precipitation: double (nullable = true)\n",
      "\n"
     ]
    }
   ],
   "source": [
    "weatherDataFrame.printSchema()"
   ]
  },
  {
   "cell_type": "code",
   "execution_count": null,
   "metadata": {},
   "outputs": [
    {
     "name": "stdout",
     "output_type": "stream",
     "text": [
      "root\n",
      " |-- date: string (nullable = true)\n",
      " |-- temp: integer (nullable = false)\n",
      " |-- precipitation: double (nullable = false)\n",
      "\n"
     ]
    }
   ],
   "source": [
    "weatherFromRdd.printSchema()"
   ]
  },
  {
   "cell_type": "code",
   "execution_count": 13,
   "metadata": {},
   "outputs": [
    {
     "name": "stdout",
     "output_type": "stream",
     "text": [
      "GenericRowWithSchema"
     ]
    }
   ],
   "source": [
    "printf(weatherFromRdd.first().getClass.getSimpleName)"
   ]
  },
  {
   "cell_type": "code",
   "execution_count": 14,
   "metadata": {},
   "outputs": [
    {
     "name": "stdout",
     "output_type": "stream",
     "text": [
      "Weather"
     ]
    }
   ],
   "source": [
    "printf(weather.first().getClass.getSimpleName)"
   ]
  },
  {
   "cell_type": "markdown",
   "metadata": {},
   "source": [
    "## Práce s DataFramem"
   ]
  },
  {
   "cell_type": "code",
   "execution_count": 27,
   "metadata": {},
   "outputs": [
    {
     "name": "stdout",
     "output_type": "stream",
     "text": [
      "+----------+----+-------------+\n",
      "|      date|temp|precipitation|\n",
      "+----------+----+-------------+\n",
      "|2013-01-01|   1|          0.0|\n",
      "|2013-01-02|  -2|          0.0|\n",
      "|2013-01-03|  -2|          0.0|\n",
      "|2013-01-04|   1|          0.0|\n",
      "|2013-01-05|   3|          0.0|\n",
      "|2013-01-06|   4|          0.0|\n",
      "|2013-01-07|   5|          0.0|\n",
      "|2013-01-08|   6|          0.0|\n",
      "|2013-01-09|   7|          0.0|\n",
      "|2013-01-10|   7|          0.0|\n",
      "|2013-01-11|   6|        13.97|\n",
      "|2013-01-12|   7|         0.51|\n",
      "|2013-01-13|   8|          0.0|\n",
      "|2013-01-14|   8|         2.29|\n",
      "|2013-01-15|   3|         3.05|\n",
      "|2013-01-16|   2|        17.53|\n",
      "|2013-01-17|   4|          0.0|\n",
      "|2013-01-18|  -1|          0.0|\n",
      "|2013-01-19|   5|          0.0|\n",
      "|2013-01-20|   6|          0.0|\n",
      "+----------+----+-------------+\n",
      "only showing top 20 rows\n",
      "\n"
     ]
    }
   ],
   "source": [
    "weather.show()"
   ]
  },
  {
   "cell_type": "markdown",
   "metadata": {},
   "source": [
    "### SELECT"
   ]
  },
  {
   "cell_type": "code",
   "execution_count": 28,
   "metadata": {},
   "outputs": [
    {
     "name": "stdout",
     "output_type": "stream",
     "text": [
      "+-------------------+\n",
      "|               date|\n",
      "+-------------------+\n",
      "|2013-01-01 00:00:00|\n",
      "|2013-01-02 00:00:00|\n",
      "|2013-01-03 00:00:00|\n",
      "|2013-01-04 00:00:00|\n",
      "|2013-01-05 00:00:00|\n",
      "|2013-01-06 00:00:00|\n",
      "|2013-01-07 00:00:00|\n",
      "|2013-01-08 00:00:00|\n",
      "|2013-01-09 00:00:00|\n",
      "|2013-01-10 00:00:00|\n",
      "|2013-01-11 00:00:00|\n",
      "|2013-01-12 00:00:00|\n",
      "|2013-01-13 00:00:00|\n",
      "|2013-01-14 00:00:00|\n",
      "|2013-01-15 00:00:00|\n",
      "|2013-01-16 00:00:00|\n",
      "|2013-01-17 00:00:00|\n",
      "|2013-01-18 00:00:00|\n",
      "|2013-01-19 00:00:00|\n",
      "|2013-01-20 00:00:00|\n",
      "+-------------------+\n",
      "only showing top 20 rows\n",
      "\n"
     ]
    }
   ],
   "source": [
    "weather.select(\"date\").show()"
   ]
  },
  {
   "cell_type": "code",
   "execution_count": 30,
   "metadata": {},
   "outputs": [
    {
     "name": "stdout",
     "output_type": "stream",
     "text": [
      "+-------------------+\n",
      "|               date|\n",
      "+-------------------+\n",
      "|2013-01-01 00:00:00|\n",
      "|2013-01-02 00:00:00|\n",
      "|2013-01-03 00:00:00|\n",
      "|2013-01-04 00:00:00|\n",
      "|2013-01-05 00:00:00|\n",
      "|2013-01-06 00:00:00|\n",
      "|2013-01-07 00:00:00|\n",
      "|2013-01-08 00:00:00|\n",
      "|2013-01-09 00:00:00|\n",
      "|2013-01-10 00:00:00|\n",
      "|2013-01-11 00:00:00|\n",
      "|2013-01-12 00:00:00|\n",
      "|2013-01-13 00:00:00|\n",
      "|2013-01-14 00:00:00|\n",
      "|2013-01-15 00:00:00|\n",
      "|2013-01-16 00:00:00|\n",
      "|2013-01-17 00:00:00|\n",
      "|2013-01-18 00:00:00|\n",
      "|2013-01-19 00:00:00|\n",
      "|2013-01-20 00:00:00|\n",
      "+-------------------+\n",
      "only showing top 20 rows\n",
      "\n"
     ]
    }
   ],
   "source": [
    "weather.createOrReplaceTempView(\"weather\")\n",
    "spark.sql(\"SELECT date FROM weather\").show()"
   ]
  },
  {
   "cell_type": "markdown",
   "metadata": {},
   "source": [
    "### WHERE"
   ]
  },
  {
   "cell_type": "code",
   "execution_count": 33,
   "metadata": {},
   "outputs": [
    {
     "name": "stdout",
     "output_type": "stream",
     "text": [
      "+-------------------+----+-------------+\n",
      "|               date|temp|precipitation|\n",
      "+-------------------+----+-------------+\n",
      "|2013-01-08 00:00:00|   6|          0.0|\n",
      "|2013-01-09 00:00:00|   7|          0.0|\n",
      "|2013-01-10 00:00:00|   7|          0.0|\n",
      "|2013-01-11 00:00:00|   6|        13.97|\n",
      "|2013-01-12 00:00:00|   7|         0.51|\n",
      "|2013-01-13 00:00:00|   8|          0.0|\n",
      "|2013-01-14 00:00:00|   8|         2.29|\n",
      "|2013-01-20 00:00:00|   6|          0.0|\n",
      "|2013-01-29 00:00:00|   6|         1.52|\n",
      "|2013-01-30 00:00:00|   9|         1.02|\n",
      "|2013-01-31 00:00:00|   8|        22.86|\n",
      "|2013-02-15 00:00:00|   8|          0.0|\n",
      "|2013-02-27 00:00:00|   6|        39.62|\n",
      "|2013-02-28 00:00:00|   7|          0.0|\n",
      "|2013-03-09 00:00:00|   7|          0.0|\n",
      "|2013-03-10 00:00:00|   6|          0.0|\n",
      "|2013-03-11 00:00:00|   8|          0.0|\n",
      "|2013-03-12 00:00:00|  10|        20.07|\n",
      "|2013-03-13 00:00:00|   7|          0.0|\n",
      "|2013-03-26 00:00:00|   7|          0.0|\n",
      "+-------------------+----+-------------+\n",
      "only showing top 20 rows\n",
      "\n"
     ]
    }
   ],
   "source": [
    "weather.select(\"*\").where(weather(\"temp\") > 5).show()"
   ]
  },
  {
   "cell_type": "code",
   "execution_count": 34,
   "metadata": {},
   "outputs": [
    {
     "name": "stdout",
     "output_type": "stream",
     "text": [
      "+-------------------+----+-------------+\n",
      "|               date|temp|precipitation|\n",
      "+-------------------+----+-------------+\n",
      "|2013-01-08 00:00:00|   6|          0.0|\n",
      "|2013-01-09 00:00:00|   7|          0.0|\n",
      "|2013-01-10 00:00:00|   7|          0.0|\n",
      "|2013-01-11 00:00:00|   6|        13.97|\n",
      "|2013-01-12 00:00:00|   7|         0.51|\n",
      "|2013-01-13 00:00:00|   8|          0.0|\n",
      "|2013-01-14 00:00:00|   8|         2.29|\n",
      "|2013-01-20 00:00:00|   6|          0.0|\n",
      "|2013-01-29 00:00:00|   6|         1.52|\n",
      "|2013-01-30 00:00:00|   9|         1.02|\n",
      "|2013-01-31 00:00:00|   8|        22.86|\n",
      "|2013-02-15 00:00:00|   8|          0.0|\n",
      "|2013-02-27 00:00:00|   6|        39.62|\n",
      "|2013-02-28 00:00:00|   7|          0.0|\n",
      "|2013-03-09 00:00:00|   7|          0.0|\n",
      "|2013-03-10 00:00:00|   6|          0.0|\n",
      "|2013-03-11 00:00:00|   8|          0.0|\n",
      "|2013-03-12 00:00:00|  10|        20.07|\n",
      "|2013-03-13 00:00:00|   7|          0.0|\n",
      "|2013-03-26 00:00:00|   7|          0.0|\n",
      "+-------------------+----+-------------+\n",
      "only showing top 20 rows\n",
      "\n"
     ]
    }
   ],
   "source": [
    "spark.sql(\"SELECT * FROM weather WHERE temp > 5\").show()"
   ]
  },
  {
   "cell_type": "markdown",
   "metadata": {},
   "source": [
    "### ORDER BY"
   ]
  },
  {
   "cell_type": "code",
   "execution_count": 51,
   "metadata": {},
   "outputs": [
    {
     "name": "stdout",
     "output_type": "stream",
     "text": [
      "+-------------------+----+-------------+\n",
      "|               date|temp|precipitation|\n",
      "+-------------------+----+-------------+\n",
      "|2013-07-18 00:00:00|  32|          0.0|\n",
      "|2013-07-19 00:00:00|  32|          0.0|\n",
      "|2013-07-17 00:00:00|  31|          0.0|\n",
      "|2013-07-20 00:00:00|  31|          0.0|\n",
      "|2013-09-11 00:00:00|  31|          0.0|\n",
      "|2013-07-16 00:00:00|  30|          0.0|\n",
      "|2013-07-15 00:00:00|  30|          0.0|\n",
      "|2013-07-06 00:00:00|  29|          0.0|\n",
      "|2013-07-07 00:00:00|  29|          0.0|\n",
      "|2013-06-24 00:00:00|  28|          0.0|\n",
      "|2013-06-25 00:00:00|  28|          0.0|\n",
      "|2013-07-05 00:00:00|  28|          0.0|\n",
      "|2013-07-21 00:00:00|  28|          0.0|\n",
      "|2013-05-31 00:00:00|  28|          0.0|\n",
      "|2013-07-14 00:00:00|  28|          0.0|\n",
      "|2013-06-01 00:00:00|  28|          0.0|\n",
      "|2013-05-30 00:00:00|  27|          0.0|\n",
      "|2013-06-27 00:00:00|  27|          6.1|\n",
      "|2013-07-09 00:00:00|  27|         5.84|\n",
      "|2013-06-26 00:00:00|  27|         1.27|\n",
      "+-------------------+----+-------------+\n",
      "only showing top 20 rows\n",
      "\n"
     ]
    }
   ],
   "source": [
    "import org.apache.spark.sql.functions.desc\n",
    "weather.select(\"*\").orderBy(desc(\"temp\")).show()"
   ]
  },
  {
   "cell_type": "code",
   "execution_count": 56,
   "metadata": {},
   "outputs": [
    {
     "name": "stdout",
     "output_type": "stream",
     "text": [
      "+-------------------+----+-------------+\n",
      "|               date|temp|precipitation|\n",
      "+-------------------+----+-------------+\n",
      "|2013-07-18 00:00:00|  32|          0.0|\n",
      "|2013-07-19 00:00:00|  32|          0.0|\n",
      "|2013-07-17 00:00:00|  31|          0.0|\n",
      "|2013-07-20 00:00:00|  31|          0.0|\n",
      "|2013-09-11 00:00:00|  31|          0.0|\n",
      "|2013-07-16 00:00:00|  30|          0.0|\n",
      "|2013-07-15 00:00:00|  30|          0.0|\n",
      "|2013-07-06 00:00:00|  29|          0.0|\n",
      "|2013-07-07 00:00:00|  29|          0.0|\n",
      "|2013-06-24 00:00:00|  28|          0.0|\n",
      "|2013-06-25 00:00:00|  28|          0.0|\n",
      "|2013-07-05 00:00:00|  28|          0.0|\n",
      "|2013-07-21 00:00:00|  28|          0.0|\n",
      "|2013-05-31 00:00:00|  28|          0.0|\n",
      "|2013-07-14 00:00:00|  28|          0.0|\n",
      "|2013-06-01 00:00:00|  28|          0.0|\n",
      "|2013-05-30 00:00:00|  27|          0.0|\n",
      "|2013-06-27 00:00:00|  27|          6.1|\n",
      "|2013-07-09 00:00:00|  27|         5.84|\n",
      "|2013-06-26 00:00:00|  27|         1.27|\n",
      "+-------------------+----+-------------+\n",
      "only showing top 20 rows\n",
      "\n"
     ]
    }
   ],
   "source": [
    "spark.sql(\"SELECT * FROM weather ORDER BY temp DESC\").show()"
   ]
  },
  {
   "cell_type": "markdown",
   "metadata": {},
   "source": [
    "### GROUP BY"
   ]
  },
  {
   "cell_type": "code",
   "execution_count": 52,
   "metadata": {},
   "outputs": [
    {
     "name": "stdout",
     "output_type": "stream",
     "text": [
      "+----+-----+\n",
      "|temp|count|\n",
      "+----+-----+\n",
      "|  32|    2|\n",
      "|  31|    3|\n",
      "|  30|    2|\n",
      "|  29|    2|\n",
      "|  28|    7|\n",
      "|  27|   15|\n",
      "|  26|   11|\n",
      "|  25|    7|\n",
      "|  24|   15|\n",
      "|  23|   20|\n",
      "|  22|   13|\n",
      "|  21|   10|\n",
      "|  20|    5|\n",
      "|  19|   12|\n",
      "|  18|   11|\n",
      "|  17|   18|\n",
      "|  16|   14|\n",
      "|  15|    5|\n",
      "|  14|   14|\n",
      "|  13|    8|\n",
      "+----+-----+\n",
      "only showing top 20 rows\n",
      "\n"
     ]
    }
   ],
   "source": [
    "import org.apache.spark.sql.functions.desc\n",
    "weather.select(\"*\").groupBy(\"temp\").count().sort(desc(\"temp\")).show()"
   ]
  },
  {
   "cell_type": "code",
   "execution_count": 58,
   "metadata": {},
   "outputs": [
    {
     "name": "stdout",
     "output_type": "stream",
     "text": [
      "+----+-----+\n",
      "|temp|count|\n",
      "+----+-----+\n",
      "|  32|    2|\n",
      "|  31|    3|\n",
      "|  30|    2|\n",
      "|  29|    2|\n",
      "|  28|    7|\n",
      "|  27|   15|\n",
      "|  26|   11|\n",
      "|  25|    7|\n",
      "|  24|   15|\n",
      "|  23|   20|\n",
      "|  22|   13|\n",
      "|  21|   10|\n",
      "|  20|    5|\n",
      "|  19|   12|\n",
      "|  18|   11|\n",
      "|  17|   18|\n",
      "|  16|   14|\n",
      "|  15|    5|\n",
      "|  14|   14|\n",
      "|  13|    8|\n",
      "+----+-----+\n",
      "only showing top 20 rows\n",
      "\n"
     ]
    }
   ],
   "source": [
    "spark.sql(\"SELECT temp, count(temp) as count FROM weather GROUP BY temp ORDER BY temp DESC\").show()"
   ]
  },
  {
   "cell_type": "markdown",
   "metadata": {},
   "source": [
    "# Samostatná práce"
   ]
  },
  {
   "cell_type": "code",
   "execution_count": 61,
   "metadata": {},
   "outputs": [
    {
     "data": {
      "text/plain": [
       "Name: Unknown Error\n",
       "Message: <console>:13: error: not found: value SparkSession\n",
       "       val spark = SparkSession\n",
       "                   ^\n",
       "\n",
       "StackTrace: "
      ]
     },
     "execution_count": 61,
     "metadata": {},
     "output_type": "execute_result"
    }
   ],
   "source": [
    "val spark = SparkSession\n",
    "      .builder\n",
    "      .appName(\"SparkSQL\")\n",
    "      .master(\"local[*]\")\n",
    "      .getOrCreate()"
   ]
  },
  {
   "cell_type": "code",
   "execution_count": 63,
   "metadata": {},
   "outputs": [
    {
     "data": {
      "text/plain": [
       "defined class FakeFriends\n"
      ]
     },
     "metadata": {},
     "output_type": "display_data",
     "source": "user"
    }
   ],
   "source": [
    "case class FakeFriends(id: Int, name: String, age: Int, friends: Long)"
   ]
  },
  {
   "cell_type": "markdown",
   "metadata": {},
   "source": [
    "Vytvoření nového Datasetu z souboru fakefriends.csv."
   ]
  },
  {
   "cell_type": "code",
   "execution_count": 67,
   "metadata": {},
   "outputs": [
    {
     "data": {
      "text/plain": [
       "friends = [id: int, name: string ... 2 more fields]\n"
      ]
     },
     "metadata": {},
     "output_type": "display_data",
     "source": "user"
    },
    {
     "data": {
      "text/plain": [
       "[id: int, name: string ... 2 more fields]"
      ]
     },
     "execution_count": 67,
     "metadata": {},
     "output_type": "execute_result"
    }
   ],
   "source": [
    "val friends = spark.read\n",
    "      .option(\"header\", \"true\")\n",
    "      .option(\"inferSchema\", \"true\")\n",
    "      .csv(\"LabData/fakefriends.csv\")\n",
    "      .as[FakeFriends]"
   ]
  },
  {
   "cell_type": "markdown",
   "metadata": {},
   "source": [
    "Vypsat schéma nového Datasetu.  "
   ]
  },
  {
   "cell_type": "code",
   "execution_count": 69,
   "metadata": {},
   "outputs": [
    {
     "name": "stdout",
     "output_type": "stream",
     "text": [
      "root\n",
      " |-- id: integer (nullable = true)\n",
      " |-- name: string (nullable = true)\n",
      " |-- age: integer (nullable = true)\n",
      " |-- friends: integer (nullable = true)\n",
      "\n"
     ]
    }
   ],
   "source": [
    "friends.printSchema()"
   ]
  },
  {
   "cell_type": "markdown",
   "metadata": {},
   "source": [
    "Vypsání dat v Datasetu."
   ]
  },
  {
   "cell_type": "code",
   "execution_count": 70,
   "metadata": {},
   "outputs": [
    {
     "name": "stdout",
     "output_type": "stream",
     "text": [
      "+---+--------+---+-------+\n",
      "| id|    name|age|friends|\n",
      "+---+--------+---+-------+\n",
      "|  0|    Will| 33|    385|\n",
      "|  1|Jean-Luc| 26|      2|\n",
      "|  2|    Hugh| 55|    221|\n",
      "|  3|  Deanna| 40|    465|\n",
      "|  4|   Quark| 68|     21|\n",
      "|  5|  Weyoun| 59|    318|\n",
      "|  6|  Gowron| 37|    220|\n",
      "|  7|    Will| 54|    307|\n",
      "|  8|  Jadzia| 38|    380|\n",
      "|  9|    Hugh| 27|    181|\n",
      "| 10|     Odo| 53|    191|\n",
      "| 11|     Ben| 57|    372|\n",
      "| 12|   Keiko| 54|    253|\n",
      "| 13|Jean-Luc| 56|    444|\n",
      "| 14|    Hugh| 43|     49|\n",
      "| 15|     Rom| 36|     49|\n",
      "| 16|  Weyoun| 22|    323|\n",
      "| 17|     Odo| 35|     13|\n",
      "| 18|Jean-Luc| 45|    455|\n",
      "| 19|  Geordi| 60|    246|\n",
      "+---+--------+---+-------+\n",
      "only showing top 20 rows\n",
      "\n"
     ]
    }
   ],
   "source": [
    "friends.show()"
   ]
  },
  {
   "cell_type": "markdown",
   "metadata": {},
   "source": [
    "Vybrat uživatele starší 30 let."
   ]
  },
  {
   "cell_type": "code",
   "execution_count": 71,
   "metadata": {},
   "outputs": [
    {
     "data": {
      "text/plain": [
       "olderUsers = [id: int, name: string ... 2 more fields]\n"
      ]
     },
     "metadata": {},
     "output_type": "display_data",
     "source": "user"
    },
    {
     "data": {
      "text/plain": [
       "[id: int, name: string ... 2 more fields]"
      ]
     },
     "execution_count": 71,
     "metadata": {},
     "output_type": "execute_result"
    }
   ],
   "source": [
    "val olderUsers = friends.select(\"*\").where(friends(\"age\") > 30)"
   ]
  },
  {
   "cell_type": "markdown",
   "metadata": {},
   "source": [
    "Seřadit podle věku a sestupně vypsat výsledek."
   ]
  },
  {
   "cell_type": "code",
   "execution_count": 77,
   "metadata": {},
   "outputs": [
    {
     "name": "stdout",
     "output_type": "stream",
     "text": [
      "+---+--------+---+-------+\n",
      "| id|    name|age|friends|\n",
      "+---+--------+---+-------+\n",
      "|205|    Morn| 69|    236|\n",
      "|116|     Ben| 69|     75|\n",
      "|253|   Leeta| 69|    116|\n",
      "| 97|   Nerys| 69|    361|\n",
      "|354|  Kasidy| 69|     15|\n",
      "|383|    Data| 69|    148|\n",
      "| 99|   Keiko| 69|    491|\n",
      "|397|   Quark| 69|    470|\n",
      "|487|   Brunt| 69|    431|\n",
      "| 62|   Keiko| 69|      9|\n",
      "|120|Jean-Luc| 68|    264|\n",
      "|168|  Martok| 68|    112|\n",
      "|310|     Odo| 68|    189|\n",
      "|258|    Worf| 68|    217|\n",
      "|170|Jean-Luc| 68|    490|\n",
      "|  4|   Quark| 68|     21|\n",
      "|361|    Worf| 68|    206|\n",
      "|428| Lwaxana| 68|    423|\n",
      "|232|    Worf| 68|    481|\n",
      "|374|     Nog| 68|    293|\n",
      "+---+--------+---+-------+\n",
      "only showing top 20 rows\n",
      "\n"
     ]
    }
   ],
   "source": [
    "olderUsers.orderBy(desc(\"age\")).show()"
   ]
  }
 ],
 "metadata": {
  "kernelspec": {
   "display_name": "Apache Toree - Scala",
   "language": "scala",
   "name": "apache_toree_scala"
  },
  "language_info": {
   "codemirror_mode": "text/x-scala",
   "file_extension": ".scala",
   "mimetype": "text/x-scala",
   "name": "scala",
   "pygments_lexer": "scala",
   "version": "2.11.12"
  }
 },
 "nbformat": 4,
 "nbformat_minor": 4
}
