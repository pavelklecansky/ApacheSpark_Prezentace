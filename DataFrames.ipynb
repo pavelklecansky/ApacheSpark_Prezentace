{
 "cells": [
  {
   "cell_type": "code",
   "execution_count": 1,
   "metadata": {},
   "outputs": [],
   "source": [
    "## download the data from the IBM server\n",
    "## this may take ~30 seconds depending on your interent speed\n",
    "\n",
    "#!wget --quiet https://cocl.us/BD0211EN_Data\n",
    "#print(\"Data Downloaded!\")"
   ]
  },
  {
   "cell_type": "code",
   "execution_count": 3,
   "metadata": {},
   "outputs": [],
   "source": [
    "## unzip the folder's content into \"resources\" directory\n",
    "## this may take ~30 seconds depending on your internet speed\n",
    "\n",
    "#!unzip -q -o -d /Prezentace BD0211EN_Data\n",
    "#print(\"Data Extracted!\")"
   ]
  },
  {
   "cell_type": "code",
   "execution_count": null,
   "metadata": {},
   "outputs": [],
   "source": []
  }
 ],
 "metadata": {
  "kernelspec": {
   "display_name": "Python",
   "language": "python",
   "name": "conda-env-python-py"
  },
  "language_info": {
   "codemirror_mode": {
    "name": "ipython",
    "version": 3
   },
   "file_extension": ".py",
   "mimetype": "text/x-python",
   "name": "python",
   "nbconvert_exporter": "python",
   "pygments_lexer": "ipython3",
   "version": "3.6.12"
  }
 },
 "nbformat": 4,
 "nbformat_minor": 4
}
