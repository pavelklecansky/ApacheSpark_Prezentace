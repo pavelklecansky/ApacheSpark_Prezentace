{
 "cells": [
  {
   "cell_type": "markdown",
   "metadata": {},
   "source": [
    "<h1 align = \"center\"> Spark RDD </h1>"
   ]
  },
  {
   "cell_type": "markdown",
   "metadata": {},
   "source": [
    "Ověření inicializace Spark contextu."
   ]
  },
  {
   "cell_type": "code",
   "execution_count": 1,
   "metadata": {},
   "outputs": [
    {
     "data": {
      "text/plain": [
       "2.4.3"
      ]
     },
     "execution_count": 1,
     "metadata": {},
     "output_type": "execute_result"
    }
   ],
   "source": [
    "sc.version"
   ]
  },
  {
   "cell_type": "markdown",
   "metadata": {},
   "source": [
    "## Vytvoření RDD"
   ]
  },
  {
   "cell_type": "markdown",
   "metadata": {},
   "source": [
    "Vytvoření RDD pomocí paralelizace kolekcí."
   ]
  },
  {
   "cell_type": "code",
   "execution_count": 40,
   "metadata": {},
   "outputs": [
    {
     "name": "stdout",
     "output_type": "stream",
     "text": [
      "1\n",
      "2\n",
      "3\n",
      "4\n",
      "5\n"
     ]
    },
    {
     "data": {
      "text/plain": [
       "data = Array(1, 2, 3, 4, 5)\n",
       "distData = ParallelCollectionRDD[25] at parallelize at <console>:31\n"
      ]
     },
     "metadata": {},
     "output_type": "display_data",
     "source": "user"
    },
    {
     "data": {
      "text/plain": [
       "ParallelCollectionRDD[25] at parallelize at <console>:31"
      ]
     },
     "execution_count": 40,
     "metadata": {},
     "output_type": "execute_result"
    }
   ],
   "source": [
    "val data = Array(1, 2, 3, 4, 5)\n",
    "val distData = sc.parallelize(data)\n",
    "distData.collect().foreach(println)"
   ]
  },
  {
   "cell_type": "markdown",
   "metadata": {},
   "source": [
    "Vytvoření RDD z textového souboru pomocí Spark contextu."
   ]
  },
  {
   "cell_type": "code",
   "execution_count": 15,
   "metadata": {},
   "outputs": [
    {
     "name": "stdout",
     "output_type": "stream",
     "text": [
      "[I 12:09:13.491 NotebookApp] Using MathJax: /static/vendor/MathJax-2.5-latest/MathJax.js\n",
      "[I 12:09:13.494 NotebookApp] Using existing profile dir: u'/home/notebook/.ipython/profile_default'\n",
      "[I 12:09:13.513 NotebookApp] Writing notebook server cookie secret to /home/notebook/.ipython/profile_default/security/notebook_cookie_secret\n",
      "[C 12:09:13.565 NotebookApp] WARNING: The notebook server is listening on all IP addresses and not using encryption. This is not recommended.\n",
      "[C 12:09:13.565 NotebookApp] WARNING: The notebook server is listening on all IP addresses and not using authentication. This is highly insecure and not recommended.\n",
      "[I 12:09:13.586 NotebookApp] Serving notebooks from local directory: /resources\n",
      "[I 12:09:13.586 NotebookApp] 0 active kernels \n",
      "[I 12:09:13.586 NotebookApp] The IPython Notebook is running at: http://[all ip addresses on your system]:8888/\n",
      "[I 12:09:13.586 NotebookApp] Use Control-C to stop this server and shut down all kernels (twice to skip confirmation).\n",
      "[W 12:09:13.586 NotebookApp] No web browser found: could not locate runnable browser.\n"
     ]
    },
    {
     "data": {
      "text/plain": [
       "logFile = /resources/Prezentace/LabData/notebook.log MapPartitionsRDD[19] at textFile at <console>:29\n"
      ]
     },
     "metadata": {},
     "output_type": "display_data",
     "source": "user"
    },
    {
     "data": {
      "text/plain": [
       "lastException: Throwable = null\n"
      ]
     },
     "metadata": {},
     "output_type": "display_data",
     "source": "user"
    },
    {
     "data": {
      "text/plain": [
       "/resources/Prezentace/LabData/notebook.log MapPartitionsRDD[19] at textFile at <console>:29"
      ]
     },
     "execution_count": 15,
     "metadata": {},
     "output_type": "execute_result"
    }
   ],
   "source": [
    "val logFile = sc.textFile(\"/resources/Prezentace/LabData/notebook.log\")\n",
    "logFile.take(10).foreach(println)"
   ]
  },
  {
   "cell_type": "markdown",
   "metadata": {},
   "source": [
    "Vytvoření nového RDD pomocí transformace existujícího."
   ]
  },
  {
   "cell_type": "code",
   "execution_count": 16,
   "metadata": {},
   "outputs": [
    {
     "name": "stdout",
     "output_type": "stream",
     "text": [
      "       # Filter out the lines that contains INFO (or ERROR, if the particular log has it)\n",
      "15/10/22 06:23:09 [ERROR] o.a.s.s.s.ReceiverTracker - Deregistered receiver for stream 0: Restarting receiver with delay 2000ms: Socket data stream had no more data\n",
      "15/10/22 06:23:11 [ERROR] o.a.s.s.s.ReceiverTracker - Deregistered receiver for stream 0: Restarting receiver with delay 2000ms: Error connecting to localhost:7777 - java.net.ConnectException: Connection refused\n",
      "15/10/22 06:23:13 [ERROR] o.a.s.s.s.ReceiverTracker - Deregistered receiver for stream 0: Restarting receiver with delay 2000ms: Error connecting to localhost:7777 - java.net.ConnectException: Connection refused\n",
      "15/10/22 06:23:15 [ERROR] o.a.s.s.s.ReceiverTracker - Deregistered receiver for stream 0: Restarting receiver with delay 2000ms: Error connecting to localhost:7777 - java.net.ConnectException: Connection refused\n",
      "15/10/22 06:23:17 [ERROR] o.a.s.s.s.ReceiverTracker - Deregistered receiver for stream 0: Restarting receiver with delay 2000ms: Error connecting to localhost:7777 - java.net.ConnectException: Connection refused\n",
      "15/10/22 06:23:19 [ERROR] o.a.s.s.s.ReceiverTracker - Deregistered receiver for stream 0: Restarting receiver with delay 2000ms: Error connecting to localhost:7777 - java.net.ConnectException: Connection refused\n",
      "15/10/22 06:23:21 [ERROR] o.a.s.s.s.ReceiverTracker - Deregistered receiver for stream 0: Restarting receiver with delay 2000ms: Error connecting to localhost:7777 - java.net.ConnectException: Connection refused\n",
      "15/10/22 06:23:23 [ERROR] o.a.s.s.s.ReceiverTracker - Deregistered receiver for stream 0: Restarting receiver with delay 2000ms: Error connecting to localhost:7777 - java.net.ConnectException: Connection refused\n",
      "15/10/22 06:23:25 [ERROR] o.a.s.s.s.ReceiverTracker - Deregistered receiver for stream 0: Restarting receiver with delay 2000ms: Error connecting to localhost:7777 - java.net.ConnectException: Connection refused\n"
     ]
    },
    {
     "data": {
      "text/plain": [
       "error = MapPartitionsRDD[20] at filter at <console>:27\n"
      ]
     },
     "metadata": {},
     "output_type": "display_data",
     "source": "user"
    },
    {
     "data": {
      "text/plain": [
       "MapPartitionsRDD[20] at filter at <console>:27"
      ]
     },
     "execution_count": 16,
     "metadata": {},
     "output_type": "execute_result"
    }
   ],
   "source": [
    "val error = logFile.filter(line => line.contains(\"ERROR\"))\n",
    "error.take(10).foreach(println)"
   ]
  },
  {
   "cell_type": "code",
   "execution_count": 18,
   "metadata": {},
   "outputs": [
    {
     "name": "stdout",
     "output_type": "stream",
     "text": [
      "3\n",
      "6\n",
      "9\n",
      "12\n",
      "15\n"
     ]
    },
    {
     "data": {
      "text/plain": [
       "timesTree = MapPartitionsRDD[22] at map at <console>:29\n"
      ]
     },
     "metadata": {},
     "output_type": "display_data",
     "source": "user"
    },
    {
     "data": {
      "text/plain": [
       "MapPartitionsRDD[22] at map at <console>:29"
      ]
     },
     "execution_count": 18,
     "metadata": {},
     "output_type": "execute_result"
    }
   ],
   "source": [
    "val timesThree = distData.map(x => x * 3)\n",
    "timesThree.collect().foreach(println)"
   ]
  },
  {
   "cell_type": "markdown",
   "metadata": {},
   "source": [
    "## Akce nad RDD"
   ]
  },
  {
   "cell_type": "markdown",
   "metadata": {},
   "source": [
    "Zjištění počtu řádků v RDD."
   ]
  },
  {
   "cell_type": "code",
   "execution_count": 29,
   "metadata": {},
   "outputs": [
    {
     "data": {
      "text/plain": [
       "34836"
      ]
     },
     "execution_count": 29,
     "metadata": {},
     "output_type": "execute_result"
    }
   ],
   "source": [
    "logFile.count()"
   ]
  },
  {
   "cell_type": "markdown",
   "metadata": {},
   "source": [
    "Maximální hodnota v RDD."
   ]
  },
  {
   "cell_type": "code",
   "execution_count": 31,
   "metadata": {},
   "outputs": [
    {
     "data": {
      "text/plain": [
       "5"
      ]
     },
     "execution_count": 31,
     "metadata": {},
     "output_type": "execute_result"
    }
   ],
   "source": [
    "distData.max()"
   ]
  },
  {
   "cell_type": "markdown",
   "metadata": {},
   "source": [
    "Minimální hodnota v RDD."
   ]
  },
  {
   "cell_type": "code",
   "execution_count": 33,
   "metadata": {},
   "outputs": [
    {
     "data": {
      "text/plain": [
       "1"
      ]
     },
     "execution_count": 33,
     "metadata": {},
     "output_type": "execute_result"
    }
   ],
   "source": [
    "distData.min()"
   ]
  },
  {
   "cell_type": "markdown",
   "metadata": {},
   "source": [
    "Vypsání statistiky z RDD."
   ]
  },
  {
   "cell_type": "code",
   "execution_count": 34,
   "metadata": {},
   "outputs": [
    {
     "data": {
      "text/plain": [
       "(count: 5, mean: 3.000000, stdev: 1.414214, max: 5.000000, min: 1.000000)"
      ]
     },
     "execution_count": 34,
     "metadata": {},
     "output_type": "execute_result"
    }
   ],
   "source": [
    "distData.stats()"
   ]
  },
  {
   "cell_type": "markdown",
   "metadata": {},
   "source": [
    "Vrácení všech elementů RDD do kolekce."
   ]
  },
  {
   "cell_type": "code",
   "execution_count": 37,
   "metadata": {},
   "outputs": [
    {
     "data": {
      "text/plain": [
       "Array(1, 2, 3, 4, 5)"
      ]
     },
     "execution_count": 37,
     "metadata": {},
     "output_type": "execute_result"
    }
   ],
   "source": [
    "distData.collect()"
   ]
  },
  {
   "cell_type": "markdown",
   "metadata": {},
   "source": [
    "Vrácení určitého množství elementů RDD do kolekce."
   ]
  },
  {
   "cell_type": "code",
   "execution_count": 38,
   "metadata": {},
   "outputs": [
    {
     "data": {
      "text/plain": [
       "Array([I 12:09:13.491 NotebookApp] Using MathJax: /static/vendor/MathJax-2.5-latest/MathJax.js, [I 12:09:13.494 NotebookApp] Using existing profile dir: u'/home/notebook/.ipython/profile_default', [I 12:09:13.513 NotebookApp] Writing notebook server cookie secret to /home/notebook/.ipython/profile_default/security/notebook_cookie_secret, [C 12:09:13.565 NotebookApp] WARNING: The notebook server is listening on all IP addresses and not using encryption. This is not recommended., [C 12:09:13.565 NotebookApp] WARNING: The notebook server is listening on all IP addresses and not using authentication. This is highly insecure and not recommended., [I 12:09:13.586 NotebookApp] Serving notebooks from local directory: /resources, \"[I 12:09:13.586 NotebookApp] 0 active kern..."
      ]
     },
     "execution_count": 38,
     "metadata": {},
     "output_type": "execute_result"
    }
   ],
   "source": [
    "logFile.take(10)"
   ]
  },
  {
   "cell_type": "markdown",
   "metadata": {},
   "source": [
    "Sečtení RDD."
   ]
  },
  {
   "cell_type": "code",
   "execution_count": 42,
   "metadata": {},
   "outputs": [
    {
     "data": {
      "text/plain": [
       "15"
      ]
     },
     "execution_count": 42,
     "metadata": {},
     "output_type": "execute_result"
    }
   ],
   "source": [
    "distData.reduce((x, y) => x + y)"
   ]
  },
  {
   "cell_type": "code",
   "execution_count": 43,
   "metadata": {},
   "outputs": [
    {
     "data": {
      "text/plain": [
       "15.0"
      ]
     },
     "execution_count": 43,
     "metadata": {},
     "output_type": "execute_result"
    }
   ],
   "source": [
    "distData.sum()"
   ]
  },
  {
   "cell_type": "markdown",
   "metadata": {},
   "source": [
    "## Sdílené proměnné a cache ?"
   ]
  },
  {
   "cell_type": "markdown",
   "metadata": {},
   "source": [
    "## Key-value pairs RDD - Průměrný věk přátel"
   ]
  },
  {
   "cell_type": "markdown",
   "metadata": {},
   "source": [
    "Vytvoříme nové RDD ze souboru fakefriends-noheader.csv"
   ]
  },
  {
   "cell_type": "code",
   "execution_count": 48,
   "metadata": {},
   "outputs": [
    {
     "data": {
      "text/plain": [
       "friends = /resources/Prezentace/LabData/fakefriends-noheader.csv MapPartitionsRDD[30] at textFile at <console>:27\n"
      ]
     },
     "metadata": {},
     "output_type": "display_data",
     "source": "user"
    },
    {
     "data": {
      "text/plain": [
       "/resources/Prezentace/LabData/fakefriends-noheader.csv MapPartitionsRDD[30] at textFile at <console>:27"
      ]
     },
     "execution_count": 48,
     "metadata": {},
     "output_type": "execute_result"
    }
   ],
   "source": [
    "val friends = sc.textFile(\"/resources/Prezentace/LabData/fakefriends-noheader.csv\")"
   ]
  },
  {
   "cell_type": "markdown",
   "metadata": {},
   "source": [
    "Zobrazíme si prvních pět řádků"
   ]
  },
  {
   "cell_type": "code",
   "execution_count": 49,
   "metadata": {},
   "outputs": [
    {
     "name": "stdout",
     "output_type": "stream",
     "text": [
      "0,Will,33,385\n",
      "1,Jean-Luc,26,2\n",
      "2,Hugh,55,221\n",
      "3,Deanna,40,465\n",
      "4,Quark,68,21\n"
     ]
    }
   ],
   "source": [
    "friends.take(5).foreach(println)"
   ]
  },
  {
   "cell_type": "markdown",
   "metadata": {},
   "source": [
    "Vytvoření RDD které obsahuje tuple (věk,počet přátel)"
   ]
  },
  {
   "cell_type": "code",
   "execution_count": 56,
   "metadata": {},
   "outputs": [
    {
     "name": "stdout",
     "output_type": "stream",
     "text": [
      "(33,385)\n",
      "(26,2)\n",
      "(55,221)\n",
      "(40,465)\n",
      "(68,21)\n",
      "(59,318)\n",
      "(37,220)\n",
      "(54,307)\n",
      "(38,380)\n",
      "(27,181)\n",
      "(53,191)\n",
      "(57,372)\n",
      "(54,253)\n",
      "(56,444)\n",
      "(43,49)\n"
     ]
    },
    {
     "data": {
      "text/plain": [
       "rdd = MapPartitionsRDD[36] at map at <console>:29\n"
      ]
     },
     "metadata": {},
     "output_type": "display_data",
     "source": "user"
    },
    {
     "data": {
      "text/plain": [
       "MapPartitionsRDD[36] at map at <console>:29"
      ]
     },
     "execution_count": 56,
     "metadata": {},
     "output_type": "execute_result"
    }
   ],
   "source": [
    "val rdd = friends.map(line => {\n",
    "      val fields = line.split(\",\")\n",
    "      val age = fields(2).toInt\n",
    "      val numFriends = fields(3).toInt\n",
    "      (age, numFriends)\n",
    "})\n",
    "rdd.take(15).foreach(println)"
   ]
  },
  {
   "cell_type": "markdown",
   "metadata": {},
   "source": [
    "Vytvoříme key-value pair kde klíč bude věk a value bude tuple (celkový počet přátel, počet lidí)"
   ]
  },
  {
   "cell_type": "code",
   "execution_count": 53,
   "metadata": {},
   "outputs": [
    {
     "name": "stdout",
     "output_type": "stream",
     "text": [
      "(19,(2346,11))\n",
      "(39,(1185,7))\n",
      "(34,(1473,6))\n",
      "(52,(3747,11))\n",
      "(55,(3842,13))\n"
     ]
    },
    {
     "data": {
      "text/plain": [
       "totalsByAge = ShuffledRDD[34] at reduceByKey at <console>:27\n"
      ]
     },
     "metadata": {},
     "output_type": "display_data",
     "source": "user"
    },
    {
     "data": {
      "text/plain": [
       "ShuffledRDD[34] at reduceByKey at <console>:27"
      ]
     },
     "execution_count": 53,
     "metadata": {},
     "output_type": "execute_result"
    }
   ],
   "source": [
    "val totalsByAge = rdd.mapValues(x => (x, 1)).reduceByKey((x,y) => (x._1 + y._1, x._2 + y._2))\n",
    "totalsByAge.take(5).foreach(println)"
   ]
  },
  {
   "cell_type": "markdown",
   "metadata": {},
   "source": [
    "Celkový počet přátel vydělíme počtem lidí."
   ]
  },
  {
   "cell_type": "code",
   "execution_count": 54,
   "metadata": {},
   "outputs": [
    {
     "data": {
      "text/plain": [
       "averagesByAge = MapPartitionsRDD[35] at mapValues at <console>:27\n"
      ]
     },
     "metadata": {},
     "output_type": "display_data",
     "source": "user"
    },
    {
     "data": {
      "text/plain": [
       "MapPartitionsRDD[35] at mapValues at <console>:27"
      ]
     },
     "execution_count": 54,
     "metadata": {},
     "output_type": "execute_result"
    }
   ],
   "source": [
    "val averagesByAge = totalsByAge.mapValues(x => x._1 / x._2)"
   ]
  },
  {
   "cell_type": "markdown",
   "metadata": {},
   "source": [
    "Vypíšeme výsledky."
   ]
  },
  {
   "cell_type": "code",
   "execution_count": 55,
   "metadata": {},
   "outputs": [
    {
     "name": "stdout",
     "output_type": "stream",
     "text": [
      "(18,343)\n",
      "(19,213)\n",
      "(20,165)\n",
      "(21,350)\n",
      "(22,206)\n",
      "(23,246)\n",
      "(24,233)\n",
      "(25,197)\n",
      "(26,242)\n",
      "(27,228)\n",
      "(28,209)\n",
      "(29,215)\n",
      "(30,235)\n",
      "(31,267)\n",
      "(32,207)\n",
      "(33,325)\n",
      "(34,245)\n",
      "(35,211)\n",
      "(36,246)\n",
      "(37,249)\n",
      "(38,193)\n",
      "(39,169)\n",
      "(40,250)\n",
      "(41,268)\n",
      "(42,303)\n",
      "(43,230)\n",
      "(44,282)\n",
      "(45,309)\n",
      "(46,223)\n",
      "(47,233)\n",
      "(48,281)\n",
      "(49,184)\n",
      "(50,254)\n",
      "(51,302)\n",
      "(52,340)\n",
      "(53,222)\n",
      "(54,278)\n",
      "(55,295)\n",
      "(56,306)\n",
      "(57,258)\n",
      "(58,116)\n",
      "(59,220)\n",
      "(60,202)\n",
      "(61,256)\n",
      "(62,220)\n",
      "(63,384)\n",
      "(64,281)\n",
      "(65,298)\n",
      "(66,276)\n",
      "(67,214)\n",
      "(68,269)\n",
      "(69,235)\n"
     ]
    },
    {
     "data": {
      "text/plain": [
       "results = Array((19,213), (39,169), (34,245), (52,340), (55,295), (66,276), (28,209), (29,215), (54,278), (65,298), (30,235), (35,211), (50,254), (36,246), (24,233), (64,281), (57,258), (51,302), (37,249), (45,309), (63,384), (18,343), (20,165), (38,193), (49,184), (43,230), (41,268), (61,256), (56,306), (21,350), (47,233), (53,222), (22,206), (25,197), (46,223), (48,281), (59,220), (32,207), (27,228), (62,220), (33,325), (42,303), (23,246), (40,250), (67,214), (69,235), (58,116), (44,282), (60,202), (31,267), (26,242), (68,269))\n"
      ]
     },
     "metadata": {},
     "output_type": "display_data",
     "source": "user"
    },
    {
     "data": {
      "text/plain": [
       "Array((19,213), (39,169), (34,245), (52,340), (55,295), (66,276), (28,209), (29,215), (54,278), (65,298), (30,235), (35,211), (50,254), (36,246), (24,233), (64,281), (57,258), (51,302), (37,249), (45,309), (63,384), (18,343), (20,165), (38,193), (49,184), (43,230), (41,268), (61,256), (56,306), (21,350), (47,233), (53,222), (22,206), (25,197), (46,223), (48,281), (59,220), (32,207), (27,228), (62,220), (33,325), (42,303), (23,246), (40,250), (67,214), (69,235), (58,116), (44,282), (60,202), (31,267), (26,242), (68,269))"
      ]
     },
     "execution_count": 55,
     "metadata": {},
     "output_type": "execute_result"
    }
   ],
   "source": [
    "val results = averagesByAge.collect()\n",
    "results.sorted.foreach(println)"
   ]
  },
  {
   "cell_type": "markdown",
   "metadata": {},
   "source": [
    "# Samostatná práce"
   ]
  },
  {
   "cell_type": "code",
   "execution_count": null,
   "metadata": {},
   "outputs": [],
   "source": []
  }
 ],
 "metadata": {
  "kernelspec": {
   "display_name": "Apache Toree - Scala",
   "language": "scala",
   "name": "apache_toree_scala"
  },
  "language_info": {
   "codemirror_mode": "text/x-scala",
   "file_extension": ".scala",
   "mimetype": "text/x-scala",
   "name": "scala",
   "pygments_lexer": "scala",
   "version": "2.11.12"
  }
 },
 "nbformat": 4,
 "nbformat_minor": 4
}
